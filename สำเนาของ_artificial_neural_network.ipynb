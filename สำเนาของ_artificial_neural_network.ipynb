{
  "nbformat": 4,
  "nbformat_minor": 0,
  "metadata": {
    "colab": {
      "name": "สำเนาของ artificial_neural_network.ipynb",
      "provenance": [],
      "collapsed_sections": []
    },
    "kernelspec": {
      "name": "python3",
      "display_name": "Python 3"
    }
  },
  "cells": [
    {
      "cell_type": "markdown",
      "metadata": {
        "id": "lP6JLo1tGNBg"
      },
      "source": [
        "# Artificial Neural Network"
      ]
    },
    {
      "cell_type": "markdown",
      "metadata": {
        "id": "gWZyYmS_UE_L"
      },
      "source": [
        "### Importing the libraries"
      ]
    },
    {
      "cell_type": "code",
      "metadata": {
        "id": "MxkJoQBkUIHC"
      },
      "source": [
        "import numpy as np\n",
        "import pandas as pd\n",
        "import tensorflow as tf"
      ],
      "execution_count": 30,
      "outputs": []
    },
    {
      "cell_type": "code",
      "metadata": {
        "id": "ZaTwK7ojXr2F",
        "colab": {
          "base_uri": "https://localhost:8080/",
          "height": 34
        },
        "outputId": "f9bfa12d-9cec-479c-eeef-ae6be5030ef8"
      },
      "source": [
        "tf.__version__"
      ],
      "execution_count": 31,
      "outputs": [
        {
          "output_type": "execute_result",
          "data": {
            "application/vnd.google.colaboratory.intrinsic+json": {
              "type": "string"
            },
            "text/plain": [
              "'2.4.0'"
            ]
          },
          "metadata": {
            "tags": []
          },
          "execution_count": 31
        }
      ]
    },
    {
      "cell_type": "markdown",
      "metadata": {
        "id": "1E0Q3aoKUCRX"
      },
      "source": [
        "## Part 1 - Data Preprocessing"
      ]
    },
    {
      "cell_type": "markdown",
      "metadata": {
        "id": "cKWAkFVGUU0Z"
      },
      "source": [
        "### Importing the dataset"
      ]
    },
    {
      "cell_type": "code",
      "metadata": {
        "id": "MXUkhkMfU4wq"
      },
      "source": [
        "dataset = pd.read_csv('Churn_Modelling.csv')\n",
        "X = dataset.iloc[:, 3:-1].values #เอาตั้งแต่ column ที่  3 และไม่เอา column สุดท้าย (เริ่มนับจาก 0)\n",
        "y = dataset.iloc[:, -1].values"
      ],
      "execution_count": 32,
      "outputs": []
    },
    {
      "cell_type": "code",
      "metadata": {
        "id": "VYP9cQTWbzuI",
        "colab": {
          "base_uri": "https://localhost:8080/"
        },
        "outputId": "3fad2f85-dbfb-4dbc-b108-7c47a47afa94"
      },
      "source": [
        "print(X)"
      ],
      "execution_count": 33,
      "outputs": [
        {
          "output_type": "stream",
          "text": [
            "[[619 'France' 'Female' ... 1 1 101348.88]\n",
            " [608 'Spain' 'Female' ... 0 1 112542.58]\n",
            " [502 'France' 'Female' ... 1 0 113931.57]\n",
            " ...\n",
            " [709 'France' 'Female' ... 0 1 42085.58]\n",
            " [772 'Germany' 'Male' ... 1 0 92888.52]\n",
            " [792 'France' 'Female' ... 1 0 38190.78]]\n"
          ],
          "name": "stdout"
        }
      ]
    },
    {
      "cell_type": "code",
      "metadata": {
        "id": "38vKGE6Nb2RR",
        "colab": {
          "base_uri": "https://localhost:8080/"
        },
        "outputId": "9e66daab-70a6-491d-f083-6ec283f88655"
      },
      "source": [
        "print(y)"
      ],
      "execution_count": 34,
      "outputs": [
        {
          "output_type": "stream",
          "text": [
            "[1 0 1 ... 1 1 0]\n"
          ],
          "name": "stdout"
        }
      ]
    },
    {
      "cell_type": "markdown",
      "metadata": {
        "id": "N6bQ0UgSU-NJ"
      },
      "source": [
        "### Encoding categorical data"
      ]
    },
    {
      "cell_type": "markdown",
      "metadata": {
        "id": "le5MJreAbW52"
      },
      "source": [
        "Label Encoding the \"Gender\" column"
      ]
    },
    {
      "cell_type": "code",
      "metadata": {
        "id": "PxVKWXxLbczC"
      },
      "source": [
        "from sklearn.preprocessing import LabelEncoder\n",
        "le = LabelEncoder()\n",
        "X[:, 2] = le.fit_transform(X[:, 2]) #แปลงค่า column ที่ 2 จาก str เป็น number Female =0 ,male = 1 (เรียงลำดับตามตัวอักษร )"
      ],
      "execution_count": 35,
      "outputs": []
    },
    {
      "cell_type": "code",
      "metadata": {
        "id": "-M1KboxFb6OO",
        "colab": {
          "base_uri": "https://localhost:8080/"
        },
        "outputId": "8ca63681-0b1e-4d12-b6a2-6aa5f831464e"
      },
      "source": [
        "print(X)"
      ],
      "execution_count": 36,
      "outputs": [
        {
          "output_type": "stream",
          "text": [
            "[[619 'France' 0 ... 1 1 101348.88]\n",
            " [608 'Spain' 0 ... 0 1 112542.58]\n",
            " [502 'France' 0 ... 1 0 113931.57]\n",
            " ...\n",
            " [709 'France' 0 ... 0 1 42085.58]\n",
            " [772 'Germany' 1 ... 1 0 92888.52]\n",
            " [792 'France' 0 ... 1 0 38190.78]]\n"
          ],
          "name": "stdout"
        }
      ]
    },
    {
      "cell_type": "markdown",
      "metadata": {
        "id": "CUxGZezpbMcb"
      },
      "source": [
        "One Hot Encoding the \"Geography\" column"
      ]
    },
    {
      "cell_type": "code",
      "metadata": {
        "id": "AMXC8-KMVirw"
      },
      "source": [
        "from sklearn.compose import ColumnTransformer\n",
        "from sklearn.preprocessing import OneHotEncoder\n",
        "ct = ColumnTransformer(transformers=[('encoder', OneHotEncoder(), [1])], remainder='passthrough')\n",
        "X = np.array(ct.fit_transform(X))"
      ],
      "execution_count": 37,
      "outputs": []
    },
    {
      "cell_type": "markdown",
      "metadata": {
        "id": "VFKI4Y22_XlK"
      },
      "source": [
        "[1] #columns ที่เราต้องการเปลี่ยน "
      ]
    },
    {
      "cell_type": "code",
      "metadata": {
        "id": "ZcxwEon-b8nV",
        "colab": {
          "base_uri": "https://localhost:8080/"
        },
        "outputId": "3b780254-ba9b-4982-ee59-397b01eca26d"
      },
      "source": [
        "print(X)"
      ],
      "execution_count": 38,
      "outputs": [
        {
          "output_type": "stream",
          "text": [
            "[[1.0 0.0 0.0 ... 1 1 101348.88]\n",
            " [0.0 0.0 1.0 ... 0 1 112542.58]\n",
            " [1.0 0.0 0.0 ... 1 0 113931.57]\n",
            " ...\n",
            " [1.0 0.0 0.0 ... 0 1 42085.58]\n",
            " [0.0 1.0 0.0 ... 1 0 92888.52]\n",
            " [1.0 0.0 0.0 ... 1 0 38190.78]]\n"
          ],
          "name": "stdout"
        }
      ]
    },
    {
      "cell_type": "markdown",
      "metadata": {
        "id": "vHol938cW8zd"
      },
      "source": [
        "### Splitting the dataset into the Training set and Test set"
      ]
    },
    {
      "cell_type": "code",
      "metadata": {
        "id": "Z-TDt0Y_XEfc"
      },
      "source": [
        "from sklearn.model_selection import train_test_split\n",
        "X_train, X_test, y_train, y_test = train_test_split(X, y, test_size = 0.2, random_state = 0)"
      ],
      "execution_count": 39,
      "outputs": []
    },
    {
      "cell_type": "markdown",
      "metadata": {
        "id": "RE_FcHyfV3TQ"
      },
      "source": [
        "### Feature Scaling"
      ]
    },
    {
      "cell_type": "markdown",
      "metadata": {
        "id": "ZTvkrsW9AHCa"
      },
      "source": [
        "สำคัญในการทำ Deep learning "
      ]
    },
    {
      "cell_type": "code",
      "metadata": {
        "id": "ViCrE00rV8Sk"
      },
      "source": [
        "from sklearn.preprocessing import StandardScaler\n",
        "sc = StandardScaler()\n",
        "X_train = sc.fit_transform(X_train)\n",
        "X_test = sc.transform(X_test)"
      ],
      "execution_count": 40,
      "outputs": []
    },
    {
      "cell_type": "markdown",
      "metadata": {
        "id": "-zfEzkRVXIwF"
      },
      "source": [
        "## Part 2 - Building the ANN"
      ]
    },
    {
      "cell_type": "markdown",
      "metadata": {
        "id": "KvdeScabXtlB"
      },
      "source": [
        "### Initializing the ANN"
      ]
    },
    {
      "cell_type": "code",
      "metadata": {
        "id": "3dtrScHxXQox"
      },
      "source": [
        "ann = tf.keras.models.Sequential() #เรียกใช้  library from Tensorflw for doing ANN"
      ],
      "execution_count": 41,
      "outputs": []
    },
    {
      "cell_type": "markdown",
      "metadata": {
        "id": "rP6urV6SX7kS"
      },
      "source": [
        "### Adding the input layer and the first hidden layer"
      ]
    },
    {
      "cell_type": "code",
      "metadata": {
        "id": "bppGycBXYCQr"
      },
      "source": [
        "ann.add(tf.keras.layers.Dense(units=6, activation='relu')) #unit = new feature = hidden neuron ไม่มีกฏในการกำหนด เลือกและลองไปเรื่อยๆ , Activation คือสมการประมาณการที่เราเลือกใช้ ซึ่งที่นิยมคือ rectifier activation (relu)"
      ],
      "execution_count": 42,
      "outputs": []
    },
    {
      "cell_type": "markdown",
      "metadata": {
        "id": "BELWAc_8YJze"
      },
      "source": [
        "### Adding the second hidden layer"
      ]
    },
    {
      "cell_type": "code",
      "metadata": {
        "id": "JneR0u0sYRTd"
      },
      "source": [
        "ann.add(tf.keras.layers.Dense(units=6, activation='relu'))"
      ],
      "execution_count": 43,
      "outputs": []
    },
    {
      "cell_type": "markdown",
      "metadata": {
        "id": "OyNEe6RXYcU4"
      },
      "source": [
        "### Adding the output layer"
      ]
    },
    {
      "cell_type": "code",
      "metadata": {
        "id": "Cn3x41RBYfvY"
      },
      "source": [
        "ann.add(tf.keras.layers.Dense(units=1, activation='sigmoid')) "
      ],
      "execution_count": 44,
      "outputs": []
    },
    {
      "cell_type": "markdown",
      "metadata": {
        "id": "EJiEMO6yuOml"
      },
      "source": [
        "ในขั้นตอนสุดท้าย คือ output เราจะกำหนดให้ผลที่ออกมามีกี่ค่า ขึ้นนนอยู่ว่า เรามีการแบ่ง class เท่าไร ถ้า binary จะมี 1 dimension ถ้า 3 class จะมี 3 dimension  ในที่นี้เราแบ่งแบบ binary ดังนั้นเรากำหนด unit = 1\r\n",
        "\r\n",
        "---\r\n",
        "และเรากำหนด activation function คือ sigmoid เนื่องจากเราต้องการ ให้ค่าสุดท้ายออกมาเป็นค่า probability \r\n",
        "\r\n",
        "\r\n",
        "---\r\n",
        "\r\n",
        "แต่ในกรณีที่ เราไม่ได้ต้องการแบ่ง class แบบ binary เราก็ไม่ควรใช้ sigmoid เราควรใช้ softmax\r\n"
      ]
    },
    {
      "cell_type": "markdown",
      "metadata": {
        "id": "JT4u2S1_Y4WG"
      },
      "source": [
        "## Part 3 - Training the ANN"
      ]
    },
    {
      "cell_type": "markdown",
      "metadata": {
        "id": "8GWlJChhY_ZI"
      },
      "source": [
        "### Compiling the ANN"
      ]
    },
    {
      "cell_type": "code",
      "metadata": {
        "id": "fG3RrwDXZEaS"
      },
      "source": [
        "ann.compile(optimizer = 'adam', loss = 'binary_crossentropy', metrics = ['accuracy'])"
      ],
      "execution_count": 45,
      "outputs": []
    },
    {
      "cell_type": "markdown",
      "metadata": {
        "id": "Kc2t4F0Gv1H3"
      },
      "source": [
        "complie เป็นการเลือกใช้คำสั่งว่าเราต้องการให้ model ที่เราสร้าง นั้นแสดงผลอะไรบ้าง เราต้องการให้มัน optimize แสดงค่า codt function และ แสดง accuracy  \r\n",
        "\r\n",
        "---\r\n",
        "\r\n",
        "loss = binary_crossentropy เราใช้อันนี้เนืองจากเราแบ่งข้อมูลเป็น binary แต่ถ้าไม่ เราควรที่จะเลือก loss function แบบอื่น"
      ]
    },
    {
      "cell_type": "markdown",
      "metadata": {
        "id": "0QR_G5u7ZLSM"
      },
      "source": [
        "### Training the ANN on the Training set"
      ]
    },
    {
      "cell_type": "code",
      "metadata": {
        "id": "nHZ-LKv_ZRb3",
        "colab": {
          "base_uri": "https://localhost:8080/"
        },
        "outputId": "4d4b27f0-e126-4aa8-ed0c-639be95b9499"
      },
      "source": [
        "ann.fit(X_train, y_train, batch_size = 32, epochs = 100) # 32 เป็น defult , epochs = "
      ],
      "execution_count": 46,
      "outputs": [
        {
          "output_type": "stream",
          "text": [
            "Epoch 1/100\n",
            "250/250 [==============================] - 1s 832us/step - loss: 0.5151 - accuracy: 0.7945\n",
            "Epoch 2/100\n",
            "250/250 [==============================] - 0s 743us/step - loss: 0.4581 - accuracy: 0.7920\n",
            "Epoch 3/100\n",
            "250/250 [==============================] - 0s 950us/step - loss: 0.4398 - accuracy: 0.7964\n",
            "Epoch 4/100\n",
            "250/250 [==============================] - 0s 894us/step - loss: 0.4339 - accuracy: 0.7918\n",
            "Epoch 5/100\n",
            "250/250 [==============================] - 0s 953us/step - loss: 0.4306 - accuracy: 0.7932\n",
            "Epoch 6/100\n",
            "250/250 [==============================] - 0s 940us/step - loss: 0.4162 - accuracy: 0.8185\n",
            "Epoch 7/100\n",
            "250/250 [==============================] - 0s 898us/step - loss: 0.4122 - accuracy: 0.8205\n",
            "Epoch 8/100\n",
            "250/250 [==============================] - 0s 900us/step - loss: 0.4105 - accuracy: 0.8265\n",
            "Epoch 9/100\n",
            "250/250 [==============================] - 0s 928us/step - loss: 0.4033 - accuracy: 0.8313\n",
            "Epoch 10/100\n",
            "250/250 [==============================] - 0s 893us/step - loss: 0.4033 - accuracy: 0.8296\n",
            "Epoch 11/100\n",
            "250/250 [==============================] - 0s 833us/step - loss: 0.4010 - accuracy: 0.8345\n",
            "Epoch 12/100\n",
            "250/250 [==============================] - 0s 898us/step - loss: 0.4048 - accuracy: 0.8275\n",
            "Epoch 13/100\n",
            "250/250 [==============================] - 0s 990us/step - loss: 0.3981 - accuracy: 0.8305\n",
            "Epoch 14/100\n",
            "250/250 [==============================] - 0s 928us/step - loss: 0.3910 - accuracy: 0.8382\n",
            "Epoch 15/100\n",
            "250/250 [==============================] - 0s 757us/step - loss: 0.3760 - accuracy: 0.8448\n",
            "Epoch 16/100\n",
            "250/250 [==============================] - 0s 909us/step - loss: 0.3765 - accuracy: 0.8442\n",
            "Epoch 17/100\n",
            "250/250 [==============================] - 0s 934us/step - loss: 0.3927 - accuracy: 0.8387\n",
            "Epoch 18/100\n",
            "250/250 [==============================] - 0s 937us/step - loss: 0.3830 - accuracy: 0.8427\n",
            "Epoch 19/100\n",
            "250/250 [==============================] - 0s 888us/step - loss: 0.3691 - accuracy: 0.8486\n",
            "Epoch 20/100\n",
            "250/250 [==============================] - 0s 906us/step - loss: 0.3726 - accuracy: 0.8432\n",
            "Epoch 21/100\n",
            "250/250 [==============================] - 0s 916us/step - loss: 0.3657 - accuracy: 0.8508\n",
            "Epoch 22/100\n",
            "250/250 [==============================] - 0s 934us/step - loss: 0.3657 - accuracy: 0.8459\n",
            "Epoch 23/100\n",
            "250/250 [==============================] - 0s 902us/step - loss: 0.3671 - accuracy: 0.8488\n",
            "Epoch 24/100\n",
            "250/250 [==============================] - 0s 963us/step - loss: 0.3566 - accuracy: 0.8552\n",
            "Epoch 25/100\n",
            "250/250 [==============================] - 0s 978us/step - loss: 0.3547 - accuracy: 0.8552\n",
            "Epoch 26/100\n",
            "250/250 [==============================] - 0s 1ms/step - loss: 0.3383 - accuracy: 0.8607\n",
            "Epoch 27/100\n",
            "250/250 [==============================] - 0s 978us/step - loss: 0.3453 - accuracy: 0.8610\n",
            "Epoch 28/100\n",
            "250/250 [==============================] - 0s 936us/step - loss: 0.3429 - accuracy: 0.8550\n",
            "Epoch 29/100\n",
            "250/250 [==============================] - 0s 918us/step - loss: 0.3534 - accuracy: 0.8550\n",
            "Epoch 30/100\n",
            "250/250 [==============================] - 0s 895us/step - loss: 0.3360 - accuracy: 0.8639\n",
            "Epoch 31/100\n",
            "250/250 [==============================] - 0s 1ms/step - loss: 0.3368 - accuracy: 0.8626\n",
            "Epoch 32/100\n",
            "250/250 [==============================] - 0s 1ms/step - loss: 0.3453 - accuracy: 0.8572\n",
            "Epoch 33/100\n",
            "250/250 [==============================] - 0s 919us/step - loss: 0.3370 - accuracy: 0.8633\n",
            "Epoch 34/100\n",
            "250/250 [==============================] - 0s 1ms/step - loss: 0.3412 - accuracy: 0.8607\n",
            "Epoch 35/100\n",
            "250/250 [==============================] - 0s 976us/step - loss: 0.3287 - accuracy: 0.8704\n",
            "Epoch 36/100\n",
            "250/250 [==============================] - 0s 937us/step - loss: 0.3521 - accuracy: 0.8551\n",
            "Epoch 37/100\n",
            "250/250 [==============================] - 0s 909us/step - loss: 0.3417 - accuracy: 0.8628\n",
            "Epoch 38/100\n",
            "250/250 [==============================] - 0s 887us/step - loss: 0.3404 - accuracy: 0.8570\n",
            "Epoch 39/100\n",
            "250/250 [==============================] - 0s 936us/step - loss: 0.3363 - accuracy: 0.8666\n",
            "Epoch 40/100\n",
            "250/250 [==============================] - 0s 998us/step - loss: 0.3366 - accuracy: 0.8636\n",
            "Epoch 41/100\n",
            "250/250 [==============================] - 0s 970us/step - loss: 0.3318 - accuracy: 0.8658\n",
            "Epoch 42/100\n",
            "250/250 [==============================] - 0s 956us/step - loss: 0.3290 - accuracy: 0.8691\n",
            "Epoch 43/100\n",
            "250/250 [==============================] - 0s 957us/step - loss: 0.3245 - accuracy: 0.8662\n",
            "Epoch 44/100\n",
            "250/250 [==============================] - 0s 918us/step - loss: 0.3389 - accuracy: 0.8594\n",
            "Epoch 45/100\n",
            "250/250 [==============================] - 0s 852us/step - loss: 0.3415 - accuracy: 0.8557\n",
            "Epoch 46/100\n",
            "250/250 [==============================] - 0s 970us/step - loss: 0.3262 - accuracy: 0.8673\n",
            "Epoch 47/100\n",
            "250/250 [==============================] - 0s 985us/step - loss: 0.3337 - accuracy: 0.8622\n",
            "Epoch 48/100\n",
            "250/250 [==============================] - 0s 962us/step - loss: 0.3446 - accuracy: 0.8577\n",
            "Epoch 49/100\n",
            "250/250 [==============================] - 0s 1ms/step - loss: 0.3404 - accuracy: 0.8570\n",
            "Epoch 50/100\n",
            "250/250 [==============================] - 0s 942us/step - loss: 0.3404 - accuracy: 0.8608\n",
            "Epoch 51/100\n",
            "250/250 [==============================] - 0s 971us/step - loss: 0.3294 - accuracy: 0.8619\n",
            "Epoch 52/100\n",
            "250/250 [==============================] - 0s 929us/step - loss: 0.3223 - accuracy: 0.8640\n",
            "Epoch 53/100\n",
            "250/250 [==============================] - 0s 931us/step - loss: 0.3287 - accuracy: 0.8668\n",
            "Epoch 54/100\n",
            "250/250 [==============================] - 0s 974us/step - loss: 0.3322 - accuracy: 0.8605\n",
            "Epoch 55/100\n",
            "250/250 [==============================] - 0s 948us/step - loss: 0.3321 - accuracy: 0.8635\n",
            "Epoch 56/100\n",
            "250/250 [==============================] - 0s 990us/step - loss: 0.3322 - accuracy: 0.8586\n",
            "Epoch 57/100\n",
            "250/250 [==============================] - 0s 950us/step - loss: 0.3366 - accuracy: 0.8617\n",
            "Epoch 58/100\n",
            "250/250 [==============================] - 0s 951us/step - loss: 0.3267 - accuracy: 0.8669\n",
            "Epoch 59/100\n",
            "250/250 [==============================] - 0s 900us/step - loss: 0.3343 - accuracy: 0.8604\n",
            "Epoch 60/100\n",
            "250/250 [==============================] - 0s 1ms/step - loss: 0.3463 - accuracy: 0.8549\n",
            "Epoch 61/100\n",
            "250/250 [==============================] - 0s 941us/step - loss: 0.3455 - accuracy: 0.8589\n",
            "Epoch 62/100\n",
            "250/250 [==============================] - 0s 908us/step - loss: 0.3337 - accuracy: 0.8657\n",
            "Epoch 63/100\n",
            "250/250 [==============================] - 0s 1ms/step - loss: 0.3386 - accuracy: 0.8596\n",
            "Epoch 64/100\n",
            "250/250 [==============================] - 0s 986us/step - loss: 0.3453 - accuracy: 0.8558\n",
            "Epoch 65/100\n",
            "250/250 [==============================] - 0s 1ms/step - loss: 0.3268 - accuracy: 0.8656\n",
            "Epoch 66/100\n",
            "250/250 [==============================] - 0s 902us/step - loss: 0.3249 - accuracy: 0.8666\n",
            "Epoch 67/100\n",
            "250/250 [==============================] - 0s 1ms/step - loss: 0.3348 - accuracy: 0.8576\n",
            "Epoch 68/100\n",
            "250/250 [==============================] - 0s 992us/step - loss: 0.3373 - accuracy: 0.8651\n",
            "Epoch 69/100\n",
            "250/250 [==============================] - 0s 928us/step - loss: 0.3354 - accuracy: 0.8604\n",
            "Epoch 70/100\n",
            "250/250 [==============================] - 0s 963us/step - loss: 0.3334 - accuracy: 0.8610\n",
            "Epoch 71/100\n",
            "250/250 [==============================] - 0s 971us/step - loss: 0.3362 - accuracy: 0.8613\n",
            "Epoch 72/100\n",
            "250/250 [==============================] - 0s 948us/step - loss: 0.3316 - accuracy: 0.8660\n",
            "Epoch 73/100\n",
            "250/250 [==============================] - 0s 948us/step - loss: 0.3358 - accuracy: 0.8650\n",
            "Epoch 74/100\n",
            "250/250 [==============================] - 0s 975us/step - loss: 0.3318 - accuracy: 0.8618\n",
            "Epoch 75/100\n",
            "250/250 [==============================] - 0s 931us/step - loss: 0.3426 - accuracy: 0.8555\n",
            "Epoch 76/100\n",
            "250/250 [==============================] - 0s 1ms/step - loss: 0.3343 - accuracy: 0.8637\n",
            "Epoch 77/100\n",
            "250/250 [==============================] - 0s 881us/step - loss: 0.3309 - accuracy: 0.8638\n",
            "Epoch 78/100\n",
            "250/250 [==============================] - 0s 972us/step - loss: 0.3267 - accuracy: 0.8628\n",
            "Epoch 79/100\n",
            "250/250 [==============================] - 0s 965us/step - loss: 0.3179 - accuracy: 0.8683\n",
            "Epoch 80/100\n",
            "250/250 [==============================] - 0s 935us/step - loss: 0.3255 - accuracy: 0.8663\n",
            "Epoch 81/100\n",
            "250/250 [==============================] - 0s 1ms/step - loss: 0.3307 - accuracy: 0.8620\n",
            "Epoch 82/100\n",
            "250/250 [==============================] - 0s 1000us/step - loss: 0.3366 - accuracy: 0.8638\n",
            "Epoch 83/100\n",
            "250/250 [==============================] - 0s 938us/step - loss: 0.3468 - accuracy: 0.8563\n",
            "Epoch 84/100\n",
            "250/250 [==============================] - 0s 985us/step - loss: 0.3295 - accuracy: 0.8667\n",
            "Epoch 85/100\n",
            "250/250 [==============================] - 0s 1ms/step - loss: 0.3293 - accuracy: 0.8669\n",
            "Epoch 86/100\n",
            "250/250 [==============================] - 0s 917us/step - loss: 0.3256 - accuracy: 0.8680\n",
            "Epoch 87/100\n",
            "250/250 [==============================] - 0s 976us/step - loss: 0.3174 - accuracy: 0.8722\n",
            "Epoch 88/100\n",
            "250/250 [==============================] - 0s 1ms/step - loss: 0.3300 - accuracy: 0.8665\n",
            "Epoch 89/100\n",
            "250/250 [==============================] - 0s 1ms/step - loss: 0.3318 - accuracy: 0.8621\n",
            "Epoch 90/100\n",
            "250/250 [==============================] - 0s 939us/step - loss: 0.3392 - accuracy: 0.8589\n",
            "Epoch 91/100\n",
            "250/250 [==============================] - 0s 946us/step - loss: 0.3197 - accuracy: 0.8721\n",
            "Epoch 92/100\n",
            "250/250 [==============================] - 0s 982us/step - loss: 0.3242 - accuracy: 0.8676\n",
            "Epoch 93/100\n",
            "250/250 [==============================] - 0s 987us/step - loss: 0.3325 - accuracy: 0.8636\n",
            "Epoch 94/100\n",
            "250/250 [==============================] - 0s 960us/step - loss: 0.3331 - accuracy: 0.8662\n",
            "Epoch 95/100\n",
            "250/250 [==============================] - 0s 945us/step - loss: 0.3282 - accuracy: 0.8639\n",
            "Epoch 96/100\n",
            "250/250 [==============================] - 0s 1ms/step - loss: 0.3236 - accuracy: 0.8650\n",
            "Epoch 97/100\n",
            "250/250 [==============================] - 0s 1ms/step - loss: 0.3296 - accuracy: 0.8615\n",
            "Epoch 98/100\n",
            "250/250 [==============================] - 0s 906us/step - loss: 0.3340 - accuracy: 0.8652\n",
            "Epoch 99/100\n",
            "250/250 [==============================] - 0s 974us/step - loss: 0.3351 - accuracy: 0.8599\n",
            "Epoch 100/100\n",
            "250/250 [==============================] - 0s 981us/step - loss: 0.3371 - accuracy: 0.8612\n"
          ],
          "name": "stdout"
        },
        {
          "output_type": "execute_result",
          "data": {
            "text/plain": [
              "<tensorflow.python.keras.callbacks.History at 0x7fb089b32f28>"
            ]
          },
          "metadata": {
            "tags": []
          },
          "execution_count": 46
        }
      ]
    },
    {
      "cell_type": "markdown",
      "metadata": {
        "id": "FSS3CblV0QoX"
      },
      "source": [
        "Epoch ทำงานร่วมกับ batch size ซึ่งมันจะทำงาน 32 step in 1 Epoch และ Epoch จำนวนมาก ไม่ได้หมายความว่า accuracy จะสูงตามไปด้วย ซึ่งเราต้องสุ่มเอา "
      ]
    },
    {
      "cell_type": "markdown",
      "metadata": {
        "id": "tJj5k2MxZga3"
      },
      "source": [
        "## Part 4 - Making the predictions and evaluating the model"
      ]
    },
    {
      "cell_type": "markdown",
      "metadata": {
        "id": "84QFoqGYeXHL"
      },
      "source": [
        "### Predicting the result of a single observation"
      ]
    },
    {
      "cell_type": "markdown",
      "metadata": {
        "id": "CGRo3eacgDdC"
      },
      "source": [
        "**Homework**\n",
        "\n",
        "Use our ANN model to predict if the customer with the following informations will leave the bank: \n",
        "\n",
        "Geography: France\n",
        "\n",
        "Credit Score: 600\n",
        "\n",
        "Gender: Male\n",
        "\n",
        "Age: 40 years old\n",
        "\n",
        "Tenure: 3 years\n",
        "\n",
        "Balance: \\$ 60000\n",
        "\n",
        "Number of Products: 2\n",
        "\n",
        "Does this customer have a credit card ? Yes\n",
        "\n",
        "Is this customer an Active Member: Yes\n",
        "\n",
        "Estimated Salary: \\$ 50000\n",
        "\n",
        "So, should we say goodbye to that customer ?"
      ]
    },
    {
      "cell_type": "markdown",
      "metadata": {
        "id": "ZhU1LTgPg-kH"
      },
      "source": [
        "**Solution**"
      ]
    },
    {
      "cell_type": "code",
      "metadata": {
        "id": "2d8IoCCkeWGL"
      },
      "source": [
        "print(ann.predict(sc.transform([[1, 0, 0, 600, 1, 40, 3, 60000, 2, 1, 1, 50000]])) > 0.5)"
      ],
      "execution_count": null,
      "outputs": []
    },
    {
      "cell_type": "markdown",
      "metadata": {
        "id": "wGjx94g2n7OV"
      },
      "source": [
        "Therefore, our ANN model predicts that this customer stays in the bank!\n",
        "\n",
        "**Important note 1:** Notice that the values of the features were all input in a double pair of square brackets. That's because the \"predict\" method always expects a 2D array as the format of its inputs. And putting our values into a double pair of square brackets makes the input exactly a 2D array.\n",
        "\n",
        "**Important note 2:** Notice also that the \"France\" country was not input as a string in the last column but as \"1, 0, 0\" in the first three columns. That's because of course the predict method expects the one-hot-encoded values of the state, and as we see in the first row of the matrix of features X, \"France\" was encoded as \"1, 0, 0\". And be careful to include these values in the first three columns, because the dummy variables are always created in the first columns."
      ]
    },
    {
      "cell_type": "markdown",
      "metadata": {
        "id": "u7yx47jPZt11"
      },
      "source": [
        "### Predicting the Test set results"
      ]
    },
    {
      "cell_type": "code",
      "metadata": {
        "id": "nIyEeQdRZwgs",
        "colab": {
          "base_uri": "https://localhost:8080/"
        },
        "outputId": "119b040f-57af-4af7-bd62-980ede30cb37"
      },
      "source": [
        "y_pred = ann.predict(X_test)\n",
        "y_pred = (y_pred > 0.5)\n",
        "print(np.concatenate((y_pred.reshape(len(y_pred),1), y_test.reshape(len(y_test),1)),1))"
      ],
      "execution_count": 48,
      "outputs": [
        {
          "output_type": "stream",
          "text": [
            "[[0 0]\n",
            " [0 1]\n",
            " [0 0]\n",
            " ...\n",
            " [0 0]\n",
            " [0 0]\n",
            " [0 0]]\n"
          ],
          "name": "stdout"
        }
      ]
    },
    {
      "cell_type": "markdown",
      "metadata": {
        "id": "o0oyfLWoaEGw"
      },
      "source": [
        "### Making the Confusion Matrix"
      ]
    },
    {
      "cell_type": "code",
      "metadata": {
        "id": "ci6K_r6LaF6P",
        "colab": {
          "base_uri": "https://localhost:8080/"
        },
        "outputId": "c1ac5115-08e2-4eff-db0f-caebe5496018"
      },
      "source": [
        "from sklearn.metrics import confusion_matrix, accuracy_score\n",
        "cm = confusion_matrix(y_test, y_pred)\n",
        "print(cm)\n",
        "accuracy_score(y_test, y_pred)"
      ],
      "execution_count": 50,
      "outputs": [
        {
          "output_type": "stream",
          "text": [
            "[[1524   71]\n",
            " [ 210  195]]\n"
          ],
          "name": "stdout"
        },
        {
          "output_type": "execute_result",
          "data": {
            "text/plain": [
              "0.8595"
            ]
          },
          "metadata": {
            "tags": []
          },
          "execution_count": 50
        }
      ]
    }
  ]
}